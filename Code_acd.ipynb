{
  "nbformat": 4,
  "nbformat_minor": 0,
  "metadata": {
    "colab": {
      "provenance": [],
      "authorship_tag": "ABX9TyPUTi5LZIwOWpiHQ6SwT1Ld",
      "include_colab_link": true
    },
    "kernelspec": {
      "name": "python3",
      "display_name": "Python 3"
    },
    "language_info": {
      "name": "python"
    }
  },
  "cells": [
    {
      "cell_type": "markdown",
      "metadata": {
        "id": "view-in-github",
        "colab_type": "text"
      },
      "source": [
        "<a href=\"https://colab.research.google.com/github/namek97/Code_accumulative/blob/main/Code_acd.ipynb\" target=\"_parent\"><img src=\"https://colab.research.google.com/assets/colab-badge.svg\" alt=\"Open In Colab\"/></a>"
      ]
    },
    {
      "cell_type": "code",
      "source": [
        "#installing TA-LIB\n",
        "!wget http://prdownloads.sourceforge.net/ta-lib/ta-lib-0.4.0-src.tar.gz \n",
        "!tar xvzf ta-lib-0.4.0-src.tar.gz\n",
        "import os\n",
        "os.chdir('ta-lib') # Can't use !cd in co-lab\n",
        "!./configure --prefix=/usr\n",
        "!make\n",
        "!make install\n",
        "os.chdir('../')\n",
        "!pip install TA-Lib\n",
        "import talib"
      ],
      "metadata": {
        "id": "QZGy52aaU1fw"
      },
      "execution_count": null,
      "outputs": []
    },
    {
      "cell_type": "code",
      "source": [
        "#installing yfinance\n",
        "!pip install yfinance \n",
        "import yfinance as yf\n",
        "import pandas as pd\n",
        "pd.set_option(\"display.max\")"
      ],
      "metadata": {
        "id": "-bJJOOOtWEQw"
      },
      "execution_count": null,
      "outputs": []
    },
    {
      "cell_type": "code",
      "source": [
        "symbol=\"TATAMOTORS.NS\""
      ],
      "metadata": {
        "id": "PQhiCtPvYM42"
      },
      "execution_count": 16,
      "outputs": []
    },
    {
      "cell_type": "code",
      "source": [
        "df=yf.Ticker(symbol).history(period=\"2y\",interval=\"1d\")\n",
        "df"
      ],
      "metadata": {
        "id": "flG_dMXuY9Jk",
        "outputId": "de1a1334-70cf-4a5e-da31-23d5e57c2a3f",
        "colab": {
          "base_uri": "https://localhost:8080/",
          "height": 455
        }
      },
      "execution_count": 17,
      "outputs": [
        {
          "output_type": "execute_result",
          "data": {
            "text/plain": [
              "                                 Open        High         Low       Close  \\\n",
              "Date                                                                        \n",
              "2021-03-10 00:00:00+05:30  319.500000  324.450012  316.700012  321.450012   \n",
              "2021-03-12 00:00:00+05:30  325.049988  326.500000  314.149994  317.549988   \n",
              "2021-03-15 00:00:00+05:30  320.000000  320.399994  310.049988  318.549988   \n",
              "2021-03-16 00:00:00+05:30  321.000000  321.899994  315.100006  319.950012   \n",
              "2021-03-17 00:00:00+05:30  318.600006  320.000000  304.000000  305.799988   \n",
              "...                               ...         ...         ...         ...   \n",
              "2023-03-03 00:00:00+05:30  422.600006  430.500000  421.950012  428.000000   \n",
              "2023-03-06 00:00:00+05:30  430.950012  441.450012  430.000000  440.100006   \n",
              "2023-03-08 00:00:00+05:30  439.000000  441.250000  436.100006  439.299988   \n",
              "2023-03-09 00:00:00+05:30  439.100006  442.049988  431.299988  432.200012   \n",
              "2023-03-10 00:00:00+05:30  433.000000  437.799988  430.799988  435.850006   \n",
              "\n",
              "                             Volume  Dividends  Stock Splits  \n",
              "Date                                                          \n",
              "2021-03-10 00:00:00+05:30  58643853        0.0           0.0  \n",
              "2021-03-12 00:00:00+05:30  48360842        0.0           0.0  \n",
              "2021-03-15 00:00:00+05:30  45081385        0.0           0.0  \n",
              "2021-03-16 00:00:00+05:30  39267404        0.0           0.0  \n",
              "2021-03-17 00:00:00+05:30  47262481        0.0           0.0  \n",
              "...                             ...        ...           ...  \n",
              "2023-03-03 00:00:00+05:30   8027522        0.0           0.0  \n",
              "2023-03-06 00:00:00+05:30  11307064        0.0           0.0  \n",
              "2023-03-08 00:00:00+05:30   7850052        0.0           0.0  \n",
              "2023-03-09 00:00:00+05:30   5696737        0.0           0.0  \n",
              "2023-03-10 00:00:00+05:30  10417015        0.0           0.0  \n",
              "\n",
              "[497 rows x 7 columns]"
            ],
            "text/html": [
              "\n",
              "  <div id=\"df-d8cc3045-c44d-40f0-b29f-9b7577e882b8\">\n",
              "    <div class=\"colab-df-container\">\n",
              "      <div>\n",
              "<style scoped>\n",
              "    .dataframe tbody tr th:only-of-type {\n",
              "        vertical-align: middle;\n",
              "    }\n",
              "\n",
              "    .dataframe tbody tr th {\n",
              "        vertical-align: top;\n",
              "    }\n",
              "\n",
              "    .dataframe thead th {\n",
              "        text-align: right;\n",
              "    }\n",
              "</style>\n",
              "<table border=\"1\" class=\"dataframe\">\n",
              "  <thead>\n",
              "    <tr style=\"text-align: right;\">\n",
              "      <th></th>\n",
              "      <th>Open</th>\n",
              "      <th>High</th>\n",
              "      <th>Low</th>\n",
              "      <th>Close</th>\n",
              "      <th>Volume</th>\n",
              "      <th>Dividends</th>\n",
              "      <th>Stock Splits</th>\n",
              "    </tr>\n",
              "    <tr>\n",
              "      <th>Date</th>\n",
              "      <th></th>\n",
              "      <th></th>\n",
              "      <th></th>\n",
              "      <th></th>\n",
              "      <th></th>\n",
              "      <th></th>\n",
              "      <th></th>\n",
              "    </tr>\n",
              "  </thead>\n",
              "  <tbody>\n",
              "    <tr>\n",
              "      <th>2021-03-10 00:00:00+05:30</th>\n",
              "      <td>319.500000</td>\n",
              "      <td>324.450012</td>\n",
              "      <td>316.700012</td>\n",
              "      <td>321.450012</td>\n",
              "      <td>58643853</td>\n",
              "      <td>0.0</td>\n",
              "      <td>0.0</td>\n",
              "    </tr>\n",
              "    <tr>\n",
              "      <th>2021-03-12 00:00:00+05:30</th>\n",
              "      <td>325.049988</td>\n",
              "      <td>326.500000</td>\n",
              "      <td>314.149994</td>\n",
              "      <td>317.549988</td>\n",
              "      <td>48360842</td>\n",
              "      <td>0.0</td>\n",
              "      <td>0.0</td>\n",
              "    </tr>\n",
              "    <tr>\n",
              "      <th>2021-03-15 00:00:00+05:30</th>\n",
              "      <td>320.000000</td>\n",
              "      <td>320.399994</td>\n",
              "      <td>310.049988</td>\n",
              "      <td>318.549988</td>\n",
              "      <td>45081385</td>\n",
              "      <td>0.0</td>\n",
              "      <td>0.0</td>\n",
              "    </tr>\n",
              "    <tr>\n",
              "      <th>2021-03-16 00:00:00+05:30</th>\n",
              "      <td>321.000000</td>\n",
              "      <td>321.899994</td>\n",
              "      <td>315.100006</td>\n",
              "      <td>319.950012</td>\n",
              "      <td>39267404</td>\n",
              "      <td>0.0</td>\n",
              "      <td>0.0</td>\n",
              "    </tr>\n",
              "    <tr>\n",
              "      <th>2021-03-17 00:00:00+05:30</th>\n",
              "      <td>318.600006</td>\n",
              "      <td>320.000000</td>\n",
              "      <td>304.000000</td>\n",
              "      <td>305.799988</td>\n",
              "      <td>47262481</td>\n",
              "      <td>0.0</td>\n",
              "      <td>0.0</td>\n",
              "    </tr>\n",
              "    <tr>\n",
              "      <th>...</th>\n",
              "      <td>...</td>\n",
              "      <td>...</td>\n",
              "      <td>...</td>\n",
              "      <td>...</td>\n",
              "      <td>...</td>\n",
              "      <td>...</td>\n",
              "      <td>...</td>\n",
              "    </tr>\n",
              "    <tr>\n",
              "      <th>2023-03-03 00:00:00+05:30</th>\n",
              "      <td>422.600006</td>\n",
              "      <td>430.500000</td>\n",
              "      <td>421.950012</td>\n",
              "      <td>428.000000</td>\n",
              "      <td>8027522</td>\n",
              "      <td>0.0</td>\n",
              "      <td>0.0</td>\n",
              "    </tr>\n",
              "    <tr>\n",
              "      <th>2023-03-06 00:00:00+05:30</th>\n",
              "      <td>430.950012</td>\n",
              "      <td>441.450012</td>\n",
              "      <td>430.000000</td>\n",
              "      <td>440.100006</td>\n",
              "      <td>11307064</td>\n",
              "      <td>0.0</td>\n",
              "      <td>0.0</td>\n",
              "    </tr>\n",
              "    <tr>\n",
              "      <th>2023-03-08 00:00:00+05:30</th>\n",
              "      <td>439.000000</td>\n",
              "      <td>441.250000</td>\n",
              "      <td>436.100006</td>\n",
              "      <td>439.299988</td>\n",
              "      <td>7850052</td>\n",
              "      <td>0.0</td>\n",
              "      <td>0.0</td>\n",
              "    </tr>\n",
              "    <tr>\n",
              "      <th>2023-03-09 00:00:00+05:30</th>\n",
              "      <td>439.100006</td>\n",
              "      <td>442.049988</td>\n",
              "      <td>431.299988</td>\n",
              "      <td>432.200012</td>\n",
              "      <td>5696737</td>\n",
              "      <td>0.0</td>\n",
              "      <td>0.0</td>\n",
              "    </tr>\n",
              "    <tr>\n",
              "      <th>2023-03-10 00:00:00+05:30</th>\n",
              "      <td>433.000000</td>\n",
              "      <td>437.799988</td>\n",
              "      <td>430.799988</td>\n",
              "      <td>435.850006</td>\n",
              "      <td>10417015</td>\n",
              "      <td>0.0</td>\n",
              "      <td>0.0</td>\n",
              "    </tr>\n",
              "  </tbody>\n",
              "</table>\n",
              "<p>497 rows × 7 columns</p>\n",
              "</div>\n",
              "      <button class=\"colab-df-convert\" onclick=\"convertToInteractive('df-d8cc3045-c44d-40f0-b29f-9b7577e882b8')\"\n",
              "              title=\"Convert this dataframe to an interactive table.\"\n",
              "              style=\"display:none;\">\n",
              "        \n",
              "  <svg xmlns=\"http://www.w3.org/2000/svg\" height=\"24px\"viewBox=\"0 0 24 24\"\n",
              "       width=\"24px\">\n",
              "    <path d=\"M0 0h24v24H0V0z\" fill=\"none\"/>\n",
              "    <path d=\"M18.56 5.44l.94 2.06.94-2.06 2.06-.94-2.06-.94-.94-2.06-.94 2.06-2.06.94zm-11 1L8.5 8.5l.94-2.06 2.06-.94-2.06-.94L8.5 2.5l-.94 2.06-2.06.94zm10 10l.94 2.06.94-2.06 2.06-.94-2.06-.94-.94-2.06-.94 2.06-2.06.94z\"/><path d=\"M17.41 7.96l-1.37-1.37c-.4-.4-.92-.59-1.43-.59-.52 0-1.04.2-1.43.59L10.3 9.45l-7.72 7.72c-.78.78-.78 2.05 0 2.83L4 21.41c.39.39.9.59 1.41.59.51 0 1.02-.2 1.41-.59l7.78-7.78 2.81-2.81c.8-.78.8-2.07 0-2.86zM5.41 20L4 18.59l7.72-7.72 1.47 1.35L5.41 20z\"/>\n",
              "  </svg>\n",
              "      </button>\n",
              "      \n",
              "  <style>\n",
              "    .colab-df-container {\n",
              "      display:flex;\n",
              "      flex-wrap:wrap;\n",
              "      gap: 12px;\n",
              "    }\n",
              "\n",
              "    .colab-df-convert {\n",
              "      background-color: #E8F0FE;\n",
              "      border: none;\n",
              "      border-radius: 50%;\n",
              "      cursor: pointer;\n",
              "      display: none;\n",
              "      fill: #1967D2;\n",
              "      height: 32px;\n",
              "      padding: 0 0 0 0;\n",
              "      width: 32px;\n",
              "    }\n",
              "\n",
              "    .colab-df-convert:hover {\n",
              "      background-color: #E2EBFA;\n",
              "      box-shadow: 0px 1px 2px rgba(60, 64, 67, 0.3), 0px 1px 3px 1px rgba(60, 64, 67, 0.15);\n",
              "      fill: #174EA6;\n",
              "    }\n",
              "\n",
              "    [theme=dark] .colab-df-convert {\n",
              "      background-color: #3B4455;\n",
              "      fill: #D2E3FC;\n",
              "    }\n",
              "\n",
              "    [theme=dark] .colab-df-convert:hover {\n",
              "      background-color: #434B5C;\n",
              "      box-shadow: 0px 1px 3px 1px rgba(0, 0, 0, 0.15);\n",
              "      filter: drop-shadow(0px 1px 2px rgba(0, 0, 0, 0.3));\n",
              "      fill: #FFFFFF;\n",
              "    }\n",
              "  </style>\n",
              "\n",
              "      <script>\n",
              "        const buttonEl =\n",
              "          document.querySelector('#df-d8cc3045-c44d-40f0-b29f-9b7577e882b8 button.colab-df-convert');\n",
              "        buttonEl.style.display =\n",
              "          google.colab.kernel.accessAllowed ? 'block' : 'none';\n",
              "\n",
              "        async function convertToInteractive(key) {\n",
              "          const element = document.querySelector('#df-d8cc3045-c44d-40f0-b29f-9b7577e882b8');\n",
              "          const dataTable =\n",
              "            await google.colab.kernel.invokeFunction('convertToInteractive',\n",
              "                                                     [key], {});\n",
              "          if (!dataTable) return;\n",
              "\n",
              "          const docLinkHtml = 'Like what you see? Visit the ' +\n",
              "            '<a target=\"_blank\" href=https://colab.research.google.com/notebooks/data_table.ipynb>data table notebook</a>'\n",
              "            + ' to learn more about interactive tables.';\n",
              "          element.innerHTML = '';\n",
              "          dataTable['output_type'] = 'display_data';\n",
              "          await google.colab.output.renderOutput(dataTable, element);\n",
              "          const docLink = document.createElement('div');\n",
              "          docLink.innerHTML = docLinkHtml;\n",
              "          element.appendChild(docLink);\n",
              "        }\n",
              "      </script>\n",
              "    </div>\n",
              "  </div>\n",
              "  "
            ]
          },
          "metadata": {},
          "execution_count": 17
        }
      ]
    },
    {
      "cell_type": "code",
      "source": [
        "df[\"MA_10\"]=talib.MA(df[\"Close\"],timeperiod=10)\n",
        "df[\"MA_50\"]=talib.MA(df[\"Close\"],timeperiod=50)\n",
        "df[\"RSI_14\"]=talib.RSI(df[\"Close\"],timeperiod=14)\n",
        "df[\"ATR_14\"]=talib.ATR(df[\"High\"],df[\"Low\"],df[\"Close\"],timeperiod=14)\n",
        "\n"
      ],
      "metadata": {
        "id": "bbVdys9fZa88"
      },
      "execution_count": 18,
      "outputs": []
    },
    {
      "cell_type": "code",
      "source": [
        "df['RSI_14'].plot()"
      ],
      "metadata": {
        "id": "KJjM5FiMay7p",
        "outputId": "4ada0b54-8887-4b9c-c7c5-fe817f6dca8d",
        "colab": {
          "base_uri": "https://localhost:8080/",
          "height": 294
        }
      },
      "execution_count": 22,
      "outputs": [
        {
          "output_type": "execute_result",
          "data": {
            "text/plain": [
              "<AxesSubplot:xlabel='Date'>"
            ]
          },
          "metadata": {},
          "execution_count": 22
        },
        {
          "output_type": "display_data",
          "data": {
            "text/plain": [
              "<Figure size 432x288 with 1 Axes>"
            ],
            "image/png": "[encoded data removed]"
          },
          "metadata": {
            "needs_background": "light"
          }
        }
      ]
    },
    {
      "cell_type": "code",
      "source": [],
      "metadata": {
        "id": "zYy0h4xfazts"
      },
      "execution_count": null,
      "outputs": []
    }
  ]
}